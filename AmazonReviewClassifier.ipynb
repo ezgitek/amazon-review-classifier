{
 "cells": [
  {
   "cell_type": "markdown",
   "metadata": {},
   "source": [
    "# Amazon Review Rating Classifier\n",
    "### CMPE 462, Spring 2018"
   ]
  },
  {
   "cell_type": "markdown",
   "metadata": {},
   "source": [
    "In this NLP project, we found Amazon product review data from Kaggle. In this dataset, there are two columns, namely the comments and the corresponding ratings. The ratings are either positive or negative so this is a binary classification problem. Three star comments are eliminated, one and two star ratings are merged together as the negative reviews and four and five star ratings make up the positive reviews. \n",
    "\n",
    "Our dataset consists of 400K product reviews.\n",
    "\n",
    "Dataset: https://www.kaggle.com/bittlingmayer/amazonreviews/data"
   ]
  },
  {
   "cell_type": "code",
   "execution_count": null,
   "metadata": {},
   "outputs": [],
   "source": [
    "%% script false\n",
    "import nltk\n",
    "from nltk.corpus import stopwords\n",
    "import string"
   ]
  },
  {
   "cell_type": "code",
   "execution_count": null,
   "metadata": {},
   "outputs": [],
   "source": []
  },
  {
   "cell_type": "markdown",
   "metadata": {},
   "source": [
    "This cell is used to preprocess the dataset. Punctuation marks and stopwords (trivial words like a, the, etc.) are eliminated and all words are turned into lowercase so that it will be more accurate to count the frequencies of the words in the future. "
   ]
  },
  {
   "cell_type": "code",
   "execution_count": null,
   "metadata": {},
   "outputs": [],
   "source": [
    "%% script false\n",
    "punctuationSet = set(list(string.punctuation))\n",
    "stopWordsSet = set(stopwords.words(\"english\"))\n",
    "\n",
    "with open(\"dataset.csv\",\"w\") as outfile:\n",
    "    with open(\"amazonreviews/test.txt\",\"r\") as infile:\n",
    "        outfile.write('\"Review Rating\",\"Review Text\"\\n')\n",
    "        for line in infile:\n",
    "\n",
    "            line = \"\".join([char for char in line if char not in punctuationSet])\n",
    "            line = \" \".join([word for word in line.split() if word.lower() not in stopWordsSet])\n",
    "            parts = line.split(\" \",1)\n",
    "            line =  '\"' + str(int(parts[0][5]) - 1) + '\",\"' + parts[1] + '\"\\n'\n",
    "            outfile.write(line.lower())\n",
    "        "
   ]
  },
  {
   "cell_type": "code",
   "execution_count": 1,
   "metadata": {},
   "outputs": [],
   "source": [
    "import pandas as pd\n",
    "import numpy as np\n",
    "import seaborn as sb\n",
    "import matplotlib.pyplot as plt\n",
    "from sklearn.model_selection import train_test_split"
   ]
  },
  {
   "cell_type": "code",
   "execution_count": 2,
   "metadata": {},
   "outputs": [],
   "source": [
    "def averageWordLength(line):\n",
    "    return len(line)/line.count(\" \")\n",
    "\n",
    "fullData = pd.read_csv(\"dataset.csv\")\n",
    "\n",
    "#split dataset into 80% train and 20% test data\n",
    "trainData, testData = train_test_split(fullData, test_size=0.2)\n"
   ]
  },
  {
   "cell_type": "code",
   "execution_count": 3,
   "metadata": {},
   "outputs": [
    {
     "data": {
      "text/html": [
       "<div>\n",
       "<style scoped>\n",
       "    .dataframe tbody tr th:only-of-type {\n",
       "        vertical-align: middle;\n",
       "    }\n",
       "\n",
       "    .dataframe tbody tr th {\n",
       "        vertical-align: top;\n",
       "    }\n",
       "\n",
       "    .dataframe thead th {\n",
       "        text-align: right;\n",
       "    }\n",
       "</style>\n",
       "<table border=\"1\" class=\"dataframe\">\n",
       "  <thead>\n",
       "    <tr style=\"text-align: right;\">\n",
       "      <th></th>\n",
       "      <th>Review Rating</th>\n",
       "      <th>Review Text</th>\n",
       "    </tr>\n",
       "  </thead>\n",
       "  <tbody>\n",
       "    <tr>\n",
       "      <th>0</th>\n",
       "      <td>1</td>\n",
       "      <td>great cd lovely pat one great voices generatio...</td>\n",
       "    </tr>\n",
       "    <tr>\n",
       "      <th>1</th>\n",
       "      <td>1</td>\n",
       "      <td>one best game music soundtracks game didnt rea...</td>\n",
       "    </tr>\n",
       "    <tr>\n",
       "      <th>2</th>\n",
       "      <td>0</td>\n",
       "      <td>batteries died within year bought charger jul ...</td>\n",
       "    </tr>\n",
       "    <tr>\n",
       "      <th>3</th>\n",
       "      <td>1</td>\n",
       "      <td>works fine maha energy better check maha energ...</td>\n",
       "    </tr>\n",
       "    <tr>\n",
       "      <th>4</th>\n",
       "      <td>1</td>\n",
       "      <td>great nonaudiophile reviewed quite bit combo p...</td>\n",
       "    </tr>\n",
       "  </tbody>\n",
       "</table>\n",
       "</div>"
      ],
      "text/plain": [
       "   Review Rating                                        Review Text\n",
       "0              1  great cd lovely pat one great voices generatio...\n",
       "1              1  one best game music soundtracks game didnt rea...\n",
       "2              0  batteries died within year bought charger jul ...\n",
       "3              1  works fine maha energy better check maha energ...\n",
       "4              1  great nonaudiophile reviewed quite bit combo p..."
      ]
     },
     "execution_count": 3,
     "metadata": {},
     "output_type": "execute_result"
    }
   ],
   "source": [
    "fullData.head()"
   ]
  },
  {
   "cell_type": "code",
   "execution_count": 4,
   "metadata": {},
   "outputs": [
    {
     "data": {
      "text/plain": [
       "<seaborn.axisgrid.FacetGrid at 0x11aa89da0>"
      ]
     },
     "execution_count": 4,
     "metadata": {},
     "output_type": "execute_result"
    },
    {
     "data": {
      "image/png": "[encoded data removed]",
      "text/plain": [
       "<matplotlib.figure.Figure at 0x117033278>"
      ]
     },
     "metadata": {},
     "output_type": "display_data"
    },
    {
     "data": {
      "image/png": "[encoded data removed]",
      "text/plain": [
       "<matplotlib.figure.Figure at 0x1a2c479ef0>"
      ]
     },
     "metadata": {},
     "output_type": "display_data"
    }
   ],
   "source": [
    "#see if these futures are any use\n",
    "\n",
    "fullData[\"average_word_length\"] =  fullData[\"Review Text\"].apply(averageWordLength)\n",
    "fullData[\"review_length\"] =  fullData[\"Review Text\"].apply(len)\n",
    "\n",
    "p = sb.FacetGrid(data=fullData, col=\"Review Rating\")\n",
    "p.map(plt.hist, \"review_length\", bins = 50)\n",
    "\n",
    "p = sb.FacetGrid(data=fullData, col=\"Review Rating\")\n",
    "p.map(plt.hist, \"average_word_length\", bins = 300)\n",
    "\n"
   ]
  },
  {
   "cell_type": "code",
   "execution_count": 5,
   "metadata": {},
   "outputs": [],
   "source": [
    "from wordcloud import WordCloud, STOPWORDS\n",
    "\n",
    "pos_words = fullData.loc[fullData['Review Rating'] == 1]['Review Text']\n",
    "neg_words = fullData.loc[fullData['Review Rating'] == 0]['Review Text']\n",
    "\n",
    "p_list = set([])\n",
    "n_list = set([])\n",
    "\n",
    "for p, n in zip(pos_words, neg_words):\n",
    "    p_list.update(p.split())\n",
    "    n_list.update(n.split())\n",
    "    \n",
    "commonwords = STOPWORDS.union(p_list & n_list)\n",
    "\n",
    "def draw_wordcloud(words, sw, color):\n",
    "    words = \" \".join(words)\n",
    "    wordcloud = WordCloud(stopwords=sw,\n",
    "                          background_color=color,\n",
    "                      width=2500,\n",
    "                      height=2000\n",
    "                     ).generate(words)\n",
    "    plt.figure(1,figsize=(13, 13))\n",
    "    plt.imshow(wordcloud)\n",
    "    plt.axis('off')\n",
    "    "
   ]
  },
  {
   "cell_type": "code",
   "execution_count": null,
   "metadata": {},
   "outputs": [],
   "source": [
    "#plot wordcloud for words that are most associated with being positive or negative\n",
    "plt.figure(figsize=(20,60))\n",
    "plt.subplot(1, 2, 1)\n",
    "draw_wordcloud(pos_words, STOPWORDS, 'white')\n",
    "plt.subplot(1, 2, 2)\n",
    "draw_wordcloud(neg_words, STOPWORDS, 'black')\n",
    "plt.show()"
   ]
  },
  {
   "cell_type": "code",
   "execution_count": null,
   "metadata": {},
   "outputs": [],
   "source": [
    "#plot wordcloud for UNIQUE words that are most associated with being positive or negative\n",
    "plt.figure(figsize=(20,60))\n",
    "plt.subplot(1, 2, 1)\n",
    "draw_wordcloud(pos_words, commonwords, 'white')\n",
    "plt.subplot(1, 2, 2)\n",
    "draw_wordcloud(neg_words, commonwords, 'black')\n",
    "plt.show()"
   ]
  },
  {
   "cell_type": "markdown",
   "metadata": {},
   "source": [
    "## Naive Bayes"
   ]
  },
  {
   "cell_type": "code",
   "execution_count": 7,
   "metadata": {
    "scrolled": false
   },
   "outputs": [
    {
     "data": {
      "text/plain": [
       "421493"
      ]
     },
     "execution_count": 7,
     "metadata": {},
     "output_type": "execute_result"
    }
   ],
   "source": [
    "#Map every word to number of times it is used in the database\n",
    "\n",
    "freqMap = {}\n",
    "\n",
    "for l in trainData[\"Review Text\"]:\n",
    "    for w in l.split():\n",
    "        if w not in freqMap:\n",
    "            freqMap[w] = 1\n",
    "        else:\n",
    "            freqMap[w] += 1\n",
    "\n",
    "len(freqMap)"
   ]
  },
  {
   "cell_type": "code",
   "execution_count": 8,
   "metadata": {},
   "outputs": [
    {
     "data": {
      "text/plain": [
       "10012"
      ]
     },
     "execution_count": 8,
     "metadata": {},
     "output_type": "execute_result"
    }
   ],
   "source": [
    "#Set of words that are going to be used in the algorithm\n",
    "\n",
    "wordSet = set([])\n",
    "\n",
    "for key in freqMap:\n",
    "    if freqMap[key]>100:\n",
    "        wordSet.add(key)\n",
    "\n",
    "len(wordSet)"
   ]
  },
  {
   "cell_type": "code",
   "execution_count": 9,
   "metadata": {},
   "outputs": [],
   "source": [
    "rateOfPositiveData = len([rating for rating in trainData['Review Rating'] if rating==1]) / len(trainData['Review Rating'])\n",
    "\n",
    "#Maps every word to number of occurrence of the word in positive reviews\n",
    "freqInPositiveReviews = {}\n",
    "\n",
    "#Maps every word to number of occurrence of the word in negative reviews\n",
    "freqInNegativeReviews = {}\n",
    "\n",
    "totalNumOfWordsInPositiveReviews = 0\n",
    "totalNumOfWordsInNegativeReviews = 0\n",
    "\n",
    "for w in wordSet:\n",
    "    freqInPositiveReviews[w] = 0\n",
    "    freqInNegativeReviews[w] = 0\n",
    "\n",
    "\n",
    "for d in trainData.itertuples():\n",
    "    if d[1] == 1:\n",
    "        for w in [word for word in d[2].split() if word in wordSet]:\n",
    "            freqInPositiveReviews[w]+=1\n",
    "            totalNumOfWordsInPositiveReviews+=1\n",
    "    else:\n",
    "        for w in [word for word in d[2].split() if word in wordSet]:\n",
    "            freqInNegativeReviews[w]+=1\n",
    "            totalNumOfWordsInNegativeReviews+=1\n",
    "\n",
    "\n",
    "            \n",
    "rate1Map = {}\n",
    "rate0Map = {}\n",
    "\n",
    "for word in wordSet:\n",
    "    rate1Map[word] = freqInPositiveReviews[word]/totalNumOfWordsInPositiveReviews\n",
    "    rate0Map[word] = freqInNegativeReviews[word]/totalNumOfWordsInNegativeReviews\n"
   ]
  },
  {
   "cell_type": "code",
   "execution_count": 10,
   "metadata": {},
   "outputs": [
    {
     "name": "stdout",
     "output_type": "stream",
     "text": [
      "love 0.005652239281980067 0.0016223221296145039\n",
      "product 0.0025561059110806523 0.004078769854855753\n",
      "amazing 0.0012572965525058483 0.00020003536369507882\n",
      "love 0.005652239281980067 0.0016223221296145039\n",
      "much 0.0035646866080951056 0.004180554039074023\n",
      "wow 0.0003349902959303552 0.00016941598926908694\n",
      "-36.637556852793246 -41.02723460480535\n",
      "positive test: 1\n",
      "\n",
      "disgusting 1.2814822743025443e-05 0.00011070081523243217\n",
      "hate 0.00020178833558735838 0.00045474818172228597\n",
      "much 0.0035646866080951056 0.004180554039074023\n",
      "omg 1.931247934512285e-05 2.7086369684531276e-05\n",
      "-36.26463749356042 -32.79823750919608\n",
      "negative test: 0\n"
     ]
    }
   ],
   "source": [
    "def predictReviewWithBayes(text, verbose=False):\n",
    "    wordList = [word for word in text.split() if word in wordSet]\n",
    "    p1 = 0\n",
    "    p0 = 0\n",
    "    for w in wordList:\n",
    "        if verbose:\n",
    "            print(w, rate1Map[w], rate0Map[w])\n",
    "        p1 += np.log(rate1Map[w])\n",
    "        p0 += np.log(rate0Map[w])\n",
    "    if verbose:\n",
    "        print(p1,p0)\n",
    "    if (p1 * rateOfPositiveData) > (p0 * (1 - rateOfPositiveData)):\n",
    "        return 1\n",
    "    else:\n",
    "        return 0\n",
    "\n",
    "\n",
    "print(\"positive test:\", predictReviewWithBayes(\"I love this product it is amazing love so much wow\", True))\n",
    "print()\n",
    "print(\"negative test:\", predictReviewWithBayes(\"disgusting ew hate it so much omg\", True))"
   ]
  },
  {
   "cell_type": "code",
   "execution_count": 12,
   "metadata": {},
   "outputs": [
    {
     "name": "stdout",
     "output_type": "stream",
     "text": [
      "Accuracy of Naive Bayes: 0.8476625\n"
     ]
    },
    {
     "data": {
      "image/png": "[encoded data removed]",
      "text/plain": [
       "<matplotlib.figure.Figure at 0x1a20a72208>"
      ]
     },
     "metadata": {},
     "output_type": "display_data"
    },
    {
     "name": "stdout",
     "output_type": "stream",
     "text": [
      "             precision    recall  f1-score   support\n",
      "\n",
      "          0       0.84      0.86      0.85     40132\n",
      "          1       0.86      0.83      0.84     39868\n",
      "\n",
      "avg / total       0.85      0.85      0.85     80000\n",
      "\n"
     ]
    }
   ],
   "source": [
    "from sklearn.metrics import confusion_matrix, classification_report\n",
    "def metrics():\n",
    "    trueGuesses = 0\n",
    "    allGuesses = 0\n",
    "    \n",
    "    truths = []\n",
    "    preds = []\n",
    "    for _, rating, text in testData.itertuples():\n",
    "        prediction = predictReviewWithBayes(text, False)\n",
    "        if rating == prediction:\n",
    "            trueGuesses+=1\n",
    "        truths.append(rating)\n",
    "        preds.append(prediction)\n",
    "        allGuesses+=1\n",
    "    return trueGuesses, allGuesses, confusion_matrix(truths, preds), classification_report(truths, preds)\n",
    "\n",
    "trueGuesses, allGuesses, cm, report = metrics()\n",
    "print(\"Accuracy of Naive Bayes:\", trueGuesses/allGuesses)\n",
    "\n",
    "fig = plt.figure()\n",
    "ax = fig.add_subplot(111)\n",
    "cax = ax.matshow(cm)\n",
    "fig.colorbar(cax)\n",
    "plt.xlabel('Predicted')\n",
    "plt.ylabel('True')\n",
    "plt.show()\n",
    "\n",
    "print(report)"
   ]
  },
  {
   "cell_type": "code",
   "execution_count": null,
   "metadata": {},
   "outputs": [],
   "source": []
  },
  {
   "cell_type": "markdown",
   "metadata": {
    "collapsed": true
   },
   "source": [
    "## LSTM"
   ]
  },
  {
   "cell_type": "code",
   "execution_count": 13,
   "metadata": {},
   "outputs": [
    {
     "name": "stderr",
     "output_type": "stream",
     "text": [
      "/Users/ezgitek/anaconda3/lib/python3.6/site-packages/h5py/__init__.py:36: FutureWarning: Conversion of the second argument of issubdtype from `float` to `np.floating` is deprecated. In future, it will be treated as `np.float64 == np.dtype(float).type`.\n",
      "  from ._conv import register_converters as _register_converters\n",
      "Using TensorFlow backend.\n"
     ]
    }
   ],
   "source": [
    "from keras.preprocessing.text import Tokenizer\n",
    "from keras.preprocessing.sequence import pad_sequences\n",
    "from keras.models import Sequential\n",
    "from keras.layers import Dense, Embedding, LSTM, SpatialDropout1D\n",
    "from keras.utils.np_utils import to_categorical"
   ]
  },
  {
   "cell_type": "code",
   "execution_count": 14,
   "metadata": {},
   "outputs": [],
   "source": [
    "max_data_count = 10000\n",
    "data = fullData.iloc[:max_data_count]\n",
    "\n",
    "tokenizer = Tokenizer(num_words=100, split=' ')\n",
    "tokenizer.fit_on_texts(data['Review Text'].values)\n",
    "X = tokenizer.texts_to_sequences(data['Review Text'].values)\n",
    "X = pad_sequences(X)\n",
    "Y = pd.get_dummies(data['Review Rating']).values"
   ]
  },
  {
   "cell_type": "code",
   "execution_count": 15,
   "metadata": {},
   "outputs": [],
   "source": [
    "X_train, X_test, Y_train, Y_test = train_test_split(X, Y, test_size = 0.2)"
   ]
  },
  {
   "cell_type": "code",
   "execution_count": 16,
   "metadata": {},
   "outputs": [
    {
     "data": {
      "text/plain": [
       "((8000, 44), (8000, 2), (2000, 44), (2000, 2))"
      ]
     },
     "execution_count": 16,
     "metadata": {},
     "output_type": "execute_result"
    }
   ],
   "source": [
    "np.shape(X_train),np.shape(Y_train),np.shape(X_test),np.shape(Y_test)"
   ]
  },
  {
   "cell_type": "code",
   "execution_count": 17,
   "metadata": {},
   "outputs": [
    {
     "name": "stderr",
     "output_type": "stream",
     "text": [
      "/Users/ezgitek/anaconda3/lib/python3.6/site-packages/ipykernel_launcher.py:6: UserWarning: The `dropout` argument is no longer support in `Embedding`. You can apply a `keras.layers.SpatialDropout1D` layer right after the `Embedding` layer to get the same behavior.\n",
      "  \n"
     ]
    },
    {
     "name": "stdout",
     "output_type": "stream",
     "text": [
      "_________________________________________________________________\n",
      "Layer (type)                 Output Shape              Param #   \n",
      "=================================================================\n",
      "embedding_1 (Embedding)      (None, 44, 128)           12800     \n",
      "_________________________________________________________________\n",
      "lstm_1 (LSTM)                (None, 200)               263200    \n",
      "_________________________________________________________________\n",
      "dense_1 (Dense)              (None, 2)                 402       \n",
      "=================================================================\n",
      "Total params: 276,402\n",
      "Trainable params: 276,402\n",
      "Non-trainable params: 0\n",
      "_________________________________________________________________\n",
      "None\n"
     ]
    }
   ],
   "source": [
    "embed_dim = 128\n",
    "lstm_out = 200\n",
    "batch_size = 32\n",
    "\n",
    "model = Sequential()\n",
    "model.add(Embedding(100, embed_dim,input_length = X_train.shape[1], dropout = 0.2))\n",
    "model.add(LSTM(lstm_out, dropout = 0.2, recurrent_dropout = 0.2))\n",
    "model.add(Dense(2,activation='softmax'))\n",
    "model.compile(loss = 'categorical_crossentropy', optimizer='adam',metrics = ['accuracy'])\n",
    "print(model.summary())"
   ]
  },
  {
   "cell_type": "code",
   "execution_count": 19,
   "metadata": {},
   "outputs": [
    {
     "name": "stdout",
     "output_type": "stream",
     "text": [
      "Epoch 1/20\n",
      " - 20s - loss: 0.5233 - acc: 0.7396\n",
      "Epoch 2/20\n",
      " - 25s - loss: 0.5168 - acc: 0.7445\n",
      "Epoch 3/20\n",
      " - 24s - loss: 0.5131 - acc: 0.7439\n",
      "Epoch 4/20\n",
      " - 21s - loss: 0.5093 - acc: 0.7464\n",
      "Epoch 5/20\n",
      " - 20s - loss: 0.5025 - acc: 0.7454\n",
      "Epoch 6/20\n",
      " - 20s - loss: 0.4959 - acc: 0.7484\n",
      "Epoch 7/20\n",
      " - 23s - loss: 0.4911 - acc: 0.7520\n",
      "Epoch 8/20\n",
      " - 19s - loss: 0.4863 - acc: 0.7556\n",
      "Epoch 9/20\n",
      " - 25s - loss: 0.4780 - acc: 0.7632\n",
      "Epoch 10/20\n",
      " - 24s - loss: 0.4749 - acc: 0.7661\n",
      "Epoch 11/20\n",
      " - 27s - loss: 0.4644 - acc: 0.7661\n",
      "Epoch 12/20\n",
      " - 26s - loss: 0.4535 - acc: 0.7771\n",
      "Epoch 13/20\n",
      " - 21s - loss: 0.4425 - acc: 0.7844\n",
      "Epoch 14/20\n",
      " - 9s - loss: 0.4336 - acc: 0.7884\n",
      "Epoch 15/20\n",
      " - 18s - loss: 0.4193 - acc: 0.7949\n",
      "Epoch 16/20\n",
      " - 18s - loss: 0.4108 - acc: 0.8033\n",
      "Epoch 17/20\n",
      " - 18s - loss: 0.3915 - acc: 0.8129\n",
      "Epoch 18/20\n",
      " - 18s - loss: 0.3776 - acc: 0.8207\n",
      "Epoch 19/20\n",
      " - 18s - loss: 0.3540 - acc: 0.8354\n",
      "Epoch 20/20\n",
      " - 18s - loss: 0.3341 - acc: 0.8441\n"
     ]
    }
   ],
   "source": [
    "history = model.fit(X_train, Y_train, batch_size=32, epochs = 20,  verbose = 2)"
   ]
  },
  {
   "cell_type": "code",
   "execution_count": 20,
   "metadata": {},
   "outputs": [],
   "source": [
    "score, accuracy = model.evaluate(X_test, Y_test, verbose=2, batch_size=32)"
   ]
  },
  {
   "cell_type": "code",
   "execution_count": 21,
   "metadata": {
    "scrolled": true
   },
   "outputs": [
    {
     "data": {
      "text/plain": [
       "(0.7116874184608459, 0.7075)"
      ]
     },
     "execution_count": 21,
     "metadata": {},
     "output_type": "execute_result"
    }
   ],
   "source": [
    "score, accuracy"
   ]
  },
  {
   "cell_type": "code",
   "execution_count": 22,
   "metadata": {},
   "outputs": [
    {
     "data": {
      "image/png": "[encoded data removed]",
      "text/plain": [
       "<matplotlib.figure.Figure at 0x1b0977df60>"
      ]
     },
     "metadata": {},
     "output_type": "display_data"
    },
    {
     "data": {
      "image/png": "[encoded data removed]",
      "text/plain": [
       "<matplotlib.figure.Figure at 0x10fb2c5f8>"
      ]
     },
     "metadata": {},
     "output_type": "display_data"
    }
   ],
   "source": [
    " # summarize history for accuracy\n",
    "plt.plot(history.history['acc'])\n",
    "plt.title('model accuracy')\n",
    "plt.ylabel('accuracy')\n",
    "plt.xlabel('epoch')\n",
    "plt.legend(['train', 'test'], loc='upper left')\n",
    "plt.show()\n",
    "# summarize history for loss\n",
    "plt.plot(history.history['loss'])\n",
    "plt.title('model loss')\n",
    "plt.ylabel('loss')\n",
    "plt.xlabel('epoch')\n",
    "plt.legend(['train', 'test'], loc='upper left')\n",
    "plt.show()"
   ]
  },
  {
   "cell_type": "code",
   "execution_count": null,
   "metadata": {},
   "outputs": [],
   "source": []
  }
 ],
 "metadata": {
  "kernelspec": {
   "display_name": "Python 3",
   "language": "python",
   "name": "python3"
  },
  "language_info": {
   "codemirror_mode": {
    "name": "ipython",
    "version": 3
   },
   "file_extension": ".py",
   "mimetype": "text/x-python",
   "name": "python",
   "nbconvert_exporter": "python",
   "pygments_lexer": "ipython3",
   "version": "3.6.4"
  }
 },
 "nbformat": 4,
 "nbformat_minor": 2
}
